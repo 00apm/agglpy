{
 "cells": [
  {
   "cell_type": "code",
   "execution_count": 1,
   "metadata": {},
   "outputs": [],
   "source": [
    "import os\n",
    "from importlib import reload\n",
    "from pathlib import Path\n",
    "\n",
    "from agglpy.dir_structure import (init_mgr_dirstruct, is_mgr_dirstruct,\n",
    "                                  validate_mgr_dirstruct)\n",
    "from agglpy.manager import Manager"
   ]
  },
  {
   "cell_type": "code",
   "execution_count": 2,
   "metadata": {},
   "outputs": [],
   "source": [
    "tests_dir = Path(os.getcwd()).parent\n",
    "input_multi_image = tests_dir / \"input/multiple_image\"\n",
    "input_multi_image_raw = tests_dir / \"input/multiple_image_raw\"\n",
    "raw_no_settings = tests_dir / \"output/sandbox/initialize\""
   ]
  },
  {
   "cell_type": "code",
   "execution_count": 7,
   "metadata": {},
   "outputs": [],
   "source": [
    "validate_mgr_dirstruct(raw_no_settings)"
   ]
  },
  {
   "cell_type": "code",
   "execution_count": 8,
   "metadata": {},
   "outputs": [
    {
     "data": {
      "text/plain": [
       "True"
      ]
     },
     "execution_count": 8,
     "metadata": {},
     "output_type": "execute_result"
    }
   ],
   "source": [
    "is_mgr_dirstruct(raw_no_settings)"
   ]
  },
  {
   "cell_type": "code",
   "execution_count": 3,
   "metadata": {},
   "outputs": [
    {
     "name": "stdout",
     "output_type": "stream",
     "text": [
      "Manager directory structure is already prepared for analysis.\n"
     ]
    }
   ],
   "source": [
    "init_mgr_dirstruct(raw_no_settings)"
   ]
  },
  {
   "cell_type": "code",
   "execution_count": 4,
   "metadata": {},
   "outputs": [],
   "source": [
    "M = Manager(working_dir=raw_no_settings)"
   ]
  },
  {
   "cell_type": "code",
   "execution_count": 5,
   "metadata": {},
   "outputs": [
    {
     "name": "stderr",
     "output_type": "stream",
     "text": [
      "Processing DataSet|D7-017| - finding agglomerates...:   0%|          | 0/3 [00:00<?, ?it/s]"
     ]
    },
    {
     "name": "stderr",
     "output_type": "stream",
     "text": [
      "Processing DataSet|D7-021| - clasifing agglomerates...: 100%|██████████| 3/3 [00:13<00:00,  4.57s/it]\n"
     ]
    }
   ],
   "source": [
    "M.batch_analysis(export_img=False)"
   ]
  },
  {
   "cell_type": "markdown",
   "metadata": {},
   "source": []
  },
  {
   "cell_type": "code",
   "execution_count": 8,
   "metadata": {},
   "outputs": [
    {
     "name": "stdout",
     "output_type": "stream",
     "text": [
      "       ID  name      D       X       Y           Vol           type   \n",
      "0     495  P495  220.0  1026.0   185.0  5.575280e+06      collector  \\\n",
      "1     482  P482  160.0  2279.0  1902.0  2.144661e+06      collector   \n",
      "2     481  P481  134.0  2590.0  1653.0  1.259833e+06      collector   \n",
      "3     483  P483  132.0  1774.0   436.0  1.204260e+06      collector   \n",
      "4     486  P486  132.0  2783.0  1199.0  1.204260e+06      collector   \n",
      "...   ...   ...    ...     ...     ...           ...            ...   \n",
      "998   556  P556    3.0   708.5  1564.5  1.413717e+01       separate   \n",
      "999   565  P565    3.0   481.5  1717.5  1.413717e+01       separate   \n",
      "1000  573  P573    3.0   642.5  2000.5  1.413717e+01       separate   \n",
      "1001  522  P522    3.0   581.5   903.5  1.413717e+01       separate   \n",
      "1002  610  P610    3.0   995.5  1358.5  1.413717e+01  attached2coll   \n",
      "\n",
      "     affiliation  \n",
      "0           AGL1  \n",
      "1           AGL2  \n",
      "2           AGL3  \n",
      "3           AGL4  \n",
      "4           AGL5  \n",
      "...          ...  \n",
      "998       AGL506  \n",
      "999       AGL507  \n",
      "1000      AGL508  \n",
      "1001      AGL509  \n",
      "1002      AGL133  \n",
      "\n",
      "[1003 rows x 8 columns]\n",
      "       ID  name      D       X       Y           Vol           type   \n",
      "0     506  P506  134.0  1361.0   657.0  1.259833e+06      collector  \\\n",
      "1     680  P680  115.0  2059.5  1606.5  7.963283e+05        similar   \n",
      "2     638  P638  107.0  2165.5    29.5  6.414310e+05        similar   \n",
      "3     524  P524  106.0   423.0  1665.0  6.236145e+05        similar   \n",
      "4     514  P514  104.0  2391.0   566.0  5.889774e+05      collector   \n",
      "...   ...   ...    ...     ...     ...           ...            ...   \n",
      "1117  561  P561    5.0   300.5  1290.5  6.544985e+01       separate   \n",
      "1118  587  P587    4.0   519.0  1873.0  3.351032e+01  attached2coll   \n",
      "1119  908  P908    4.0   859.0  1582.0  3.351032e+01       separate   \n",
      "1120  620  P620    4.0  1003.0  1067.0  3.351032e+01       separate   \n",
      "1121  547  P547    4.0   464.0   867.0  3.351032e+01       separate   \n",
      "\n",
      "     affiliation  \n",
      "0         AGL510  \n",
      "1         AGL511  \n",
      "2         AGL512  \n",
      "3         AGL513  \n",
      "4         AGL514  \n",
      "...          ...  \n",
      "1117     AGL1193  \n",
      "1118     AGL1098  \n",
      "1119     AGL1194  \n",
      "1120     AGL1195  \n",
      "1121     AGL1196  \n",
      "\n",
      "[1122 rows x 8 columns]\n",
      "       ID  name      D       X       Y           Vol           type   \n",
      "0     598  P598  202.0   235.0  1174.0  4.315715e+06      collector  \\\n",
      "1     509  P509  164.0  1330.0  1088.0  2.309565e+06      collector   \n",
      "2     510  P510  128.0   492.0   166.0  1.098066e+06      collector   \n",
      "3     512  P512   88.0   512.0   900.0  3.568179e+05        similar   \n",
      "4     516  P516   78.0   540.0    19.0  2.484748e+05      collector   \n",
      "...   ...   ...    ...     ...     ...           ...            ...   \n",
      "1011  551  P551    4.0   503.0   191.0  3.351032e+01  attached2coll   \n",
      "1012  529  P529    3.0   388.5   214.5  1.413717e+01       separate   \n",
      "1013  696  P696    3.0   949.5   678.5  1.413717e+01       separate   \n",
      "1014  531  P531    2.0   334.0    96.0  4.188790e+00       separate   \n",
      "1015  532  P532    2.0   323.0   157.0  4.188790e+00       separate   \n",
      "\n",
      "     affiliation  \n",
      "0        AGL1197  \n",
      "1        AGL1198  \n",
      "2        AGL1199  \n",
      "3        AGL1200  \n",
      "4        AGL1201  \n",
      "...          ...  \n",
      "1011     AGL1199  \n",
      "1012     AGL1791  \n",
      "1013     AGL1792  \n",
      "1014     AGL1793  \n",
      "1015     AGL1794  \n",
      "\n",
      "[1016 rows x 8 columns]\n"
     ]
    }
   ],
   "source": [
    "ptab = M.generate_pTable()\n",
    "aggltab = M.generate_aglTable()\n"
   ]
  },
  {
   "cell_type": "code",
   "execution_count": 9,
   "metadata": {},
   "outputs": [
    {
     "data": {
      "text/html": [
       "<div>\n",
       "<style scoped>\n",
       "    .dataframe tbody tr th:only-of-type {\n",
       "        vertical-align: middle;\n",
       "    }\n",
       "\n",
       "    .dataframe tbody tr th {\n",
       "        vertical-align: top;\n",
       "    }\n",
       "\n",
       "    .dataframe thead th {\n",
       "        text-align: right;\n",
       "    }\n",
       "</style>\n",
       "<table border=\"1\" class=\"dataframe\">\n",
       "  <thead>\n",
       "    <tr style=\"text-align: right;\">\n",
       "      <th></th>\n",
       "      <th>DS ID</th>\n",
       "      <th>ID</th>\n",
       "      <th>name</th>\n",
       "      <th>volume</th>\n",
       "      <th>D</th>\n",
       "      <th>type</th>\n",
       "      <th>members_count</th>\n",
       "      <th>members_Dmean</th>\n",
       "      <th>members_Dstdev</th>\n",
       "    </tr>\n",
       "  </thead>\n",
       "  <tbody>\n",
       "    <tr>\n",
       "      <th>0</th>\n",
       "      <td>D7-017</td>\n",
       "      <td>1</td>\n",
       "      <td>AGL1</td>\n",
       "      <td>6.126479e+06</td>\n",
       "      <td>227.023479</td>\n",
       "      <td>collector</td>\n",
       "      <td>13</td>\n",
       "      <td>47.923077</td>\n",
       "      <td>55.259180</td>\n",
       "    </tr>\n",
       "    <tr>\n",
       "      <th>1</th>\n",
       "      <td>D7-017</td>\n",
       "      <td>2</td>\n",
       "      <td>AGL2</td>\n",
       "      <td>2.579777e+06</td>\n",
       "      <td>170.161450</td>\n",
       "      <td>collector</td>\n",
       "      <td>19</td>\n",
       "      <td>35.210526</td>\n",
       "      <td>33.454080</td>\n",
       "    </tr>\n",
       "    <tr>\n",
       "      <th>2</th>\n",
       "      <td>D7-017</td>\n",
       "      <td>3</td>\n",
       "      <td>AGL3</td>\n",
       "      <td>1.275357e+06</td>\n",
       "      <td>134.548156</td>\n",
       "      <td>collector</td>\n",
       "      <td>8</td>\n",
       "      <td>29.875000</td>\n",
       "      <td>42.286227</td>\n",
       "    </tr>\n",
       "    <tr>\n",
       "      <th>3</th>\n",
       "      <td>D7-017</td>\n",
       "      <td>4</td>\n",
       "      <td>AGL4</td>\n",
       "      <td>1.511214e+06</td>\n",
       "      <td>142.377870</td>\n",
       "      <td>collector</td>\n",
       "      <td>16</td>\n",
       "      <td>31.312500</td>\n",
       "      <td>31.310741</td>\n",
       "    </tr>\n",
       "    <tr>\n",
       "      <th>4</th>\n",
       "      <td>D7-017</td>\n",
       "      <td>5</td>\n",
       "      <td>AGL5</td>\n",
       "      <td>1.750065e+06</td>\n",
       "      <td>149.515146</td>\n",
       "      <td>collector</td>\n",
       "      <td>20</td>\n",
       "      <td>36.000000</td>\n",
       "      <td>27.767834</td>\n",
       "    </tr>\n",
       "    <tr>\n",
       "      <th>...</th>\n",
       "      <td>...</td>\n",
       "      <td>...</td>\n",
       "      <td>...</td>\n",
       "      <td>...</td>\n",
       "      <td>...</td>\n",
       "      <td>...</td>\n",
       "      <td>...</td>\n",
       "      <td>...</td>\n",
       "      <td>...</td>\n",
       "    </tr>\n",
       "    <tr>\n",
       "      <th>1789</th>\n",
       "      <td>D7-021</td>\n",
       "      <td>1790</td>\n",
       "      <td>AGL1790</td>\n",
       "      <td>3.351032e+01</td>\n",
       "      <td>4.000000</td>\n",
       "      <td>separate</td>\n",
       "      <td>1</td>\n",
       "      <td>4.000000</td>\n",
       "      <td>NaN</td>\n",
       "    </tr>\n",
       "    <tr>\n",
       "      <th>1790</th>\n",
       "      <td>D7-021</td>\n",
       "      <td>1791</td>\n",
       "      <td>AGL1791</td>\n",
       "      <td>1.413717e+01</td>\n",
       "      <td>3.000000</td>\n",
       "      <td>separate</td>\n",
       "      <td>1</td>\n",
       "      <td>3.000000</td>\n",
       "      <td>NaN</td>\n",
       "    </tr>\n",
       "    <tr>\n",
       "      <th>1791</th>\n",
       "      <td>D7-021</td>\n",
       "      <td>1792</td>\n",
       "      <td>AGL1792</td>\n",
       "      <td>1.413717e+01</td>\n",
       "      <td>3.000000</td>\n",
       "      <td>separate</td>\n",
       "      <td>1</td>\n",
       "      <td>3.000000</td>\n",
       "      <td>NaN</td>\n",
       "    </tr>\n",
       "    <tr>\n",
       "      <th>1792</th>\n",
       "      <td>D7-021</td>\n",
       "      <td>1793</td>\n",
       "      <td>AGL1793</td>\n",
       "      <td>4.188790e+00</td>\n",
       "      <td>2.000000</td>\n",
       "      <td>separate</td>\n",
       "      <td>1</td>\n",
       "      <td>2.000000</td>\n",
       "      <td>NaN</td>\n",
       "    </tr>\n",
       "    <tr>\n",
       "      <th>1793</th>\n",
       "      <td>D7-021</td>\n",
       "      <td>1794</td>\n",
       "      <td>AGL1794</td>\n",
       "      <td>4.188790e+00</td>\n",
       "      <td>2.000000</td>\n",
       "      <td>separate</td>\n",
       "      <td>1</td>\n",
       "      <td>2.000000</td>\n",
       "      <td>NaN</td>\n",
       "    </tr>\n",
       "  </tbody>\n",
       "</table>\n",
       "<p>1794 rows × 9 columns</p>\n",
       "</div>"
      ],
      "text/plain": [
       "       DS ID    ID     name        volume           D       type   \n",
       "0     D7-017     1     AGL1  6.126479e+06  227.023479  collector  \\\n",
       "1     D7-017     2     AGL2  2.579777e+06  170.161450  collector   \n",
       "2     D7-017     3     AGL3  1.275357e+06  134.548156  collector   \n",
       "3     D7-017     4     AGL4  1.511214e+06  142.377870  collector   \n",
       "4     D7-017     5     AGL5  1.750065e+06  149.515146  collector   \n",
       "...      ...   ...      ...           ...         ...        ...   \n",
       "1789  D7-021  1790  AGL1790  3.351032e+01    4.000000   separate   \n",
       "1790  D7-021  1791  AGL1791  1.413717e+01    3.000000   separate   \n",
       "1791  D7-021  1792  AGL1792  1.413717e+01    3.000000   separate   \n",
       "1792  D7-021  1793  AGL1793  4.188790e+00    2.000000   separate   \n",
       "1793  D7-021  1794  AGL1794  4.188790e+00    2.000000   separate   \n",
       "\n",
       "      members_count  members_Dmean  members_Dstdev  \n",
       "0                13      47.923077       55.259180  \n",
       "1                19      35.210526       33.454080  \n",
       "2                 8      29.875000       42.286227  \n",
       "3                16      31.312500       31.310741  \n",
       "4                20      36.000000       27.767834  \n",
       "...             ...            ...             ...  \n",
       "1789              1       4.000000             NaN  \n",
       "1790              1       3.000000             NaN  \n",
       "1791              1       3.000000             NaN  \n",
       "1792              1       2.000000             NaN  \n",
       "1793              1       2.000000             NaN  \n",
       "\n",
       "[1794 rows x 9 columns]"
      ]
     },
     "execution_count": 9,
     "metadata": {},
     "output_type": "execute_result"
    }
   ],
   "source": [
    "aggltab"
   ]
  },
  {
   "cell_type": "code",
   "execution_count": null,
   "metadata": {},
   "outputs": [],
   "source": []
  }
 ],
 "metadata": {
  "kernelspec": {
   "display_name": "base",
   "language": "python",
   "name": "python3"
  },
  "language_info": {
   "codemirror_mode": {
    "name": "ipython",
    "version": 3
   },
   "file_extension": ".py",
   "mimetype": "text/x-python",
   "name": "python",
   "nbconvert_exporter": "python",
   "pygments_lexer": "ipython3",
   "version": "3.9.7"
  }
 },
 "nbformat": 4,
 "nbformat_minor": 2
}
